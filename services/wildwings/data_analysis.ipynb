{
 "cells": [
  {
   "cell_type": "markdown",
   "metadata": {},
   "source": [
    "# WildWing telemetry data analysis\n",
    "### Purpose: Script to analyze and visualize telemetry data produced by WildWing"
   ]
  },
  {
   "cell_type": "markdown",
   "metadata": {},
   "source": [
    "### Step 1: Import libraries"
   ]
  },
  {
   "cell_type": "code",
   "execution_count": null,
   "metadata": {},
   "outputs": [],
   "source": [
    "import pandas as pd\n",
    "import geopy\n",
    "from geopy import distance\n",
    "import folium\n",
    "from folium import IFrame\n",
    "# import pyproj\n",
    "import base64\n",
    "import os\n",
    "import cv2\n",
    "import branca"
   ]
  },
  {
   "cell_type": "markdown",
   "metadata": {},
   "source": [
    "### Step 2: Define functions to process telemetry"
   ]
  },
  {
   "cell_type": "code",
   "execution_count": null,
   "metadata": {},
   "outputs": [],
   "source": [
    "def get_bearing(lat1, long1, lat2, long2):\n",
    "    geodesic = pyproj.Geod(ellps='WGS84')\n",
    "    fwd_azimuth,back_azimuth,distance = geodesic.inv(long1, lat1, long2, lat2)\n",
    "    return fwd_azimuth"
   ]
  },
  {
   "cell_type": "code",
   "execution_count": null,
   "metadata": {},
   "outputs": [],
   "source": [
    "def get_distance(lat1, long1, lat2, long2):\n",
    "    geodesic = pyproj.Geod(ellps='WGS84')\n",
    "    fwd_azimuth,back_azimuth,distance = geodesic.inv(long1, lat1, long2, lat2)\n",
    "    return distance"
   ]
  },
  {
   "cell_type": "code",
   "execution_count": null,
   "metadata": {},
   "outputs": [],
   "source": [
    "def get_speed(distance, time1, time2):\n",
    "    if distance == 0:\n",
    "        return 0\n",
    "    else:\n",
    "        geodesic = pyproj.Geod(ellps='WGS84')\n",
    "        time_diff = (time2 - time1).total_seconds()\n",
    "        speed = distance/time_diff\n",
    "        return speed"
   ]
  },
  {
   "cell_type": "markdown",
   "metadata": {},
   "source": [
    "### Step 3: Define sessions to process"
   ]
  },
  {
   "cell_type": "code",
   "execution_count": null,
   "metadata": {},
   "outputs": [],
   "source": [
    "sessions = ['zebra_073124_122452', 'giraffe_073124_141828', 'phorses_073124_144555']"
   ]
  },
  {
   "cell_type": "markdown",
   "metadata": {},
   "source": [
    "### Step 4: Process telemetry data\n",
    "\n",
    "Use functions to calculate bearing (a.k.a. heading) of the drone, distance travelled, and speed. Save csv telemetry file."
   ]
  },
  {
   "cell_type": "code",
   "execution_count": null,
   "metadata": {},
   "outputs": [],
   "source": [
    "# create telemetry csv files\n",
    "telemetry = []\n",
    "for session in sessions:\n",
    "    df = pd.read_csv(f'wildwingdeployment/{session}/telemetry_log.csv')\n",
    "    df['timestamp'] = pd.to_datetime(df['timestamp'])\n",
    "    df['latitude'] = df['x'].astype(float)\n",
    "    df['longitude'] = df['y'].astype(float)\n",
    "    df['directory'] = f'wildwingdeployment/{session}/'\n",
    "    df.drop_duplicates(subset=['timestamp'], keep='first', inplace=True)  # remove duplicate timestamps\n",
    "    df.reset_index(drop=True, inplace=True) # reset index\n",
    "    for i in range(1, len(df)):\n",
    "        df.at[i, 'distance (m)'] = get_distance(df.at[i-1, 'latitude'], df.at[i-1, 'longitude'], df.at[i, 'latitude'], df.at[i, 'longitude'])  # distance in meters\n",
    "        df.at[i, 'bearing (deg)'] = get_bearing(df.at[i-1, 'latitude'], df.at[i-1, 'longitude'], df.at[i, 'latitude'], df.at[i, 'longitude'])  # bearing in degrees\n",
    "        df.at[i, 'speed (m/s)'] = get_speed(df.at[i, 'distance (m)'], df.at[i-1, 'timestamp'], df.at[i, 'timestamp'])\n",
    "    df.to_csv(f'telemetry/{session}_telemetry.csv', index=False)\n",
    "    telemetry.append(df)"
   ]
  },
  {
   "cell_type": "markdown",
   "metadata": {},
   "source": [
    "Print statistics on telemetry files"
   ]
  },
  {
   "cell_type": "code",
   "execution_count": null,
   "metadata": {},
   "outputs": [],
   "source": [
    "# concat all telemetry data\n",
    "telemetry_df = pd.concat(telemetry)\n",
    "telemetry_df.reset_index(drop=True, inplace=True)\n",
    "telemetry_df[['latitude', 'longitude', 'distance (m)','bearing (deg)','speed (m/s)']].describe()"
   ]
  },
  {
   "cell_type": "code",
   "execution_count": null,
   "metadata": {},
   "outputs": [],
   "source": [
    "# describe telemetry data as latex table\n",
    "table = telemetry_df[['latitude', 'longitude', 'distance (m)','bearing (deg)','speed (m/s)']].describe().to_latex()\n",
    "print(table)"
   ]
  },
  {
   "cell_type": "code",
   "execution_count": null,
   "metadata": {},
   "outputs": [],
   "source": [
    "# get the duration of each session\n",
    "for df in telemetry:\n",
    "    start = df['timestamp'].iloc[0]\n",
    "    end = df['timestamp'].iloc[-1]\n",
    "    duration = (end - start).total_seconds()\n",
    "    session = df['directory'].iloc[0].split('/')[1]\n",
    "    print(f'{session} duration: {duration}')"
   ]
  },
  {
   "cell_type": "markdown",
   "metadata": {},
   "source": [
    "### Step 5: Map the telemetry data "
   ]
  },
  {
   "cell_type": "markdown",
   "metadata": {},
   "source": [
    "Crop frames to preview on the map"
   ]
  },
  {
   "cell_type": "code",
   "execution_count": null,
   "metadata": {},
   "outputs": [],
   "source": [
    "for s in sessions:\n",
    "    frames = os.listdir('wildwingdeployment/'+s+'/frames/')\n",
    "    for f in frames:\n",
    "        # load image\n",
    "        img = cv2.imread('wildwingdeployment/'+s+'/frames/'+f)\n",
    "        if img is not None:\n",
    "            # trim image\n",
    "            crop_img = img[260:460, 440:840]\n",
    "            # save image\n",
    "            cv2.imwrite('wildwingdeployment/'+s+'/cropped_frames/'+f, crop_img)\n"
   ]
  },
  {
   "cell_type": "code",
   "execution_count": null,
   "metadata": {},
   "outputs": [],
   "source": [
    "# define colors based on speed of drone\n",
    "def speed_color(speed):\n",
    "    if speed < 0.05:\n",
    "        return 'green'\n",
    "    elif speed < 0.4:\n",
    "        return 'yellow'\n",
    "    else:\n",
    "        return 'red'"
   ]
  },
  {
   "cell_type": "code",
   "execution_count": null,
   "metadata": {},
   "outputs": [],
   "source": [
    "# Function to create a legend\n",
    "def create_legend():\n",
    "    legend_html = '''\n",
    "     <div style=\"position: fixed; \n",
    "     bottom: 50px; left: 50px; width: 150px; height: 250px; \n",
    "     border:2px solid grey; z-index:9999; font-size:14px;\n",
    "     background-color:white; opacity: 0.8;\">\n",
    "     &nbsp; <b>Legend</b> <br>\n",
    "     &nbsp; <i class=\"fa fa-map-marker fa-2x\" style=\"color:green\"></i>&nbsp; Start <br>\n",
    "     &nbsp; <i class=\"fa fa-map-marker fa-2x\" style=\"color:red\"></i>&nbsp; End <br>\n",
    "     &nbsp; <i class=\"fa fa-map-marker fa-2x\" style=\"color:gray\"></i>&nbsp; Photo <br>\n",
    "     &nbsp; <i class=\"fa fa-map-marker fa-2x\" style=\"color:blue\"></i>&nbsp; Bearing <br>\n",
    "     &nbsp; <i class=\"fa fa-circle fa-2x\" style=\"color:green\"></i>&nbsp; Slow <br>\n",
    "     &nbsp; <i class=\"fa fa-circle fa-2x\" style=\"color:yellow\"></i>&nbsp; Medium <br>\n",
    "     &nbsp; <i class=\"fa fa-circle fa-2x\" style=\"color:red\"></i>&nbsp; Fast <br>\n",
    "     </div>\n",
    "     '''\n",
    "    return legend_html\n",
    "\n",
    "# Create a Folium map centered at an average location\n",
    "m = folium.Map(location=[lat, long], zoom_start=20)\n",
    "\n",
    "# Super group for all traces, photos, and bearings\n",
    "super_speed = folium.FeatureGroup(name='Speed', overlay=True)\n",
    "super_photo = folium.FeatureGroup(name='Photo Preview', overlay=True)\n",
    "super_bearing = folium.FeatureGroup(name='Bearing', overlay=True)\n",
    "\n",
    "# Add each trace to the map\n",
    "for trace in telemetry:\n",
    "    # Create a feature group for each trace\n",
    "    name = trace['directory'].iloc[0].split('/')[1]\n",
    "    fg = folium.FeatureGroup(name=name, overlay=True)\n",
    "    \n",
    "    # Plot start and end points\n",
    "    start = trace.iloc[0]\n",
    "    folium.Marker([start['latitude'], start['longitude']], popup='Start', icon=folium.Icon(color='green')).add_to(fg)\n",
    "    end = trace.iloc[-1]\n",
    "    folium.Marker([end['latitude'], end['longitude']], popup='End', icon=folium.Icon(color='red')).add_to(fg)\n",
    "    folium.PolyLine(trace[['latitude', 'longitude']].values).add_to(fg)\n",
    "    fg.add_to(m) # Add the feature group to the map\n",
    "    \n",
    "    # Add a feature group for photos\n",
    "    fg_photo = folium.FeatureGroup(name=f'{name} - Photos', overlay=True)\n",
    "    for index, row in trace.iterrows():\n",
    "        index += 20\n",
    "        if index % 40 == 0:\n",
    "            # get the frame_directory\n",
    "            frame_directory = row['directory']\n",
    "            file = frame_directory + 'cropped_frames/' + str(index) + '.jpg'\n",
    "            \n",
    "            # Add Marker\n",
    "            encoded = base64.b64encode(open(file, 'rb').read())\n",
    "            html = '<img src=\"data:image/png;base64,{}\">'.format\n",
    "            iframe = IFrame(html(encoded.decode('UTF-8')), width=400, height=350)\n",
    "            popup = folium.Popup(iframe, max_width=400)\n",
    "\n",
    "            folium.Marker(location=[row['x'], row['y']], tooltip=html, popup=popup, \n",
    "                          icon=folium.Icon(color='gray')).add_to(fg_photo)\n",
    "    #fg_photo.add_to(m)\n",
    "    fg_photo.add_to(super_photo)\n",
    "    \n",
    "    # Add a feature group for speed\n",
    "    speed_fg = folium.FeatureGroup(name=f'{name} - Speed', overlay=True)\n",
    "    for index, row in trace.iterrows():\n",
    "        speed = row['speed (m/s)']\n",
    "        color = speed_color(speed)\n",
    "        folium.CircleMarker([row['latitude'], row['longitude']], radius=5, color=color).add_to(speed_fg)\n",
    "    # speed_fg.add_to(m)\n",
    "    speed_fg.add_to(super_speed)\n",
    "    \n",
    "    # Add a feature group for bearing\n",
    "    bearing_fg = folium.FeatureGroup(name=f'{name} - Bearing', overlay=True)\n",
    "    for index, row in trace.iterrows():\n",
    "        index += 20\n",
    "        if index % 30 == 0:\n",
    "            angle = row['bearing (deg)']\n",
    "            icon = folium.Icon(color='blue', icon='arrow-up', prefix='fa', icon_angle=angle)\n",
    "            folium.Marker([row['latitude'], row['longitude']], icon=icon, tooltip=str(angle)).add_to(bearing_fg)\n",
    "    # bearing_fg.add_to(m)\n",
    "    bearing_fg.add_to(super_bearing)\n",
    "\n",
    "# Add super groups to the map\n",
    "super_speed.add_to(m)\n",
    "super_photo.add_to(m)\n",
    "super_bearing.add_to(m)\n",
    "\n",
    "# Add layer control to toggle traces\n",
    "folium.LayerControl().add_to(m)\n",
    "\n",
    "# Add legend to the map\n",
    "legend_html = create_legend()\n",
    "m.get_root().html.add_child(folium.Element(legend_html))\n",
    "\n",
    "# Save the map\n",
    "m.save('map.html')\n",
    "\n",
    "# Display the map\n",
    "m"
   ]
  }
 ],
 "metadata": {
  "kernelspec": {
   "display_name": "Python 3",
   "language": "python",
   "name": "python3"
  },
  "language_info": {
   "codemirror_mode": {
    "name": "ipython",
    "version": 3
   },
   "file_extension": ".py",
   "mimetype": "text/x-python",
   "name": "python",
   "nbconvert_exporter": "python",
   "pygments_lexer": "ipython3",
   "version": "3.9.6"
  }
 },
 "nbformat": 4,
 "nbformat_minor": 2
}
